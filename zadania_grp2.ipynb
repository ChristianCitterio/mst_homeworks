{
 "cells": [
  {
   "cell_type": "code",
   "execution_count": 2,
   "metadata": {},
   "outputs": [
    {
     "name": "stdout",
     "output_type": "stream",
     "text": [
      "[[0.51020408 0.40816327 0.08163265]\n",
      " [0.51020408 0.40816327 0.08163265]\n",
      " [0.51020408 0.40816327 0.08163265]]\n"
     ]
    }
   ],
   "source": [
    "#  Zadanie A\n",
    "import matplotlib.pyplot as plt\n",
    "import numpy as np\n",
    "import math\n",
    "\n",
    "plin = 0.2\n",
    "plout = 0.5\n",
    "nplin = 0.8\n",
    "nplout = 0.5\n",
    "\n",
    "n = 1000\n",
    "\n",
    "start_state = [\n",
    "    [nplin*nplin, plin*(nplin*2), plin*plin],\n",
    "    [nplin*nplout, (plin*plout)+(nplin*nplout), plin*plout],\n",
    "    [nplout*nplout, plout*(nplout*2), plout*plout],\n",
    "]\n",
    "\n",
    "results = start_state\n",
    "res_maxs = []\n",
    "\n",
    "for i in range(n):\n",
    "    results = np.dot(results, start_state)\n",
    "    \n",
    "print(results)"
   ]
  },
  {
   "cell_type": "code",
   "execution_count": 3,
   "metadata": {},
   "outputs": [
    {
     "name": "stdout",
     "output_type": "stream",
     "text": [
      "[0.501, 0.43, 0.07]\n"
     ]
    }
   ],
   "source": [
    "# Zadania B\n",
    "\n",
    "X = 0\n",
    "Y = 1\n",
    "Z = 0\n",
    "logged = 1\n",
    "\n",
    "for i in range(1000):\n",
    "    rand_num = np.random.rand()\n",
    "    \n",
    "    if rand_num <= start_state[logged][0]:\n",
    "        logged = 0\n",
    "        X += 1\n",
    "    elif rand_num <= (start_state[logged][0] + start_state[logged][1]):\n",
    "        logged = 1\n",
    "        Y += 1\n",
    "    elif rand_num > (start_state[logged][0] + start_state[logged][1]):\n",
    "        logged = 2\n",
    "        Z += 1\n",
    "        \n",
    "print([X/n, Y/n, Z/n])\n"
   ]
  },
  {
   "cell_type": "code",
   "execution_count": 1,
   "metadata": {},
   "outputs": [
    {
     "ename": "NameError",
     "evalue": "name 'np' is not defined",
     "output_type": "error",
     "traceback": [
      "\u001b[0;31m---------------------------------------------------------------------------\u001b[0m",
      "\u001b[0;31mNameError\u001b[0m                                 Traceback (most recent call last)",
      "Cell \u001b[0;32mIn[1], line 10\u001b[0m\n\u001b[1;32m      8\u001b[0m states \u001b[38;5;241m=\u001b[39m results[\u001b[38;5;241m-\u001b[39m\u001b[38;5;241m1\u001b[39m]\n\u001b[1;32m      9\u001b[0m \u001b[38;5;28;01mfor\u001b[39;00m i \u001b[38;5;129;01min\u001b[39;00m states:\n\u001b[0;32m---> 10\u001b[0m     rand \u001b[38;5;241m=\u001b[39m \u001b[43mnp\u001b[49m\u001b[38;5;241m.\u001b[39mrandom\u001b[38;5;241m.\u001b[39mrandom_sample()\n\u001b[1;32m     11\u001b[0m     \u001b[38;5;28;01mif\u001b[39;00m i \u001b[38;5;241m==\u001b[39m \u001b[38;5;241m0\u001b[39m:\n\u001b[1;32m     12\u001b[0m         i \u001b[38;5;241m=\u001b[39m \u001b[38;5;241m1\u001b[39m \u001b[38;5;28;01mif\u001b[39;00m rand \u001b[38;5;241m<\u001b[39m\u001b[38;5;241m=\u001b[39m (plin\u001b[38;5;241m*\u001b[39mnplin) \u001b[38;5;28;01melse\u001b[39;00m \u001b[38;5;241m0\u001b[39m\n",
      "\u001b[0;31mNameError\u001b[0m: name 'np' is not defined"
     ]
    }
   ],
   "source": [
    "# Zadanie C\n",
    "\n",
    "start = [1 for i in range(100)]\n",
    "\n",
    "results = [ start, ]\n",
    "\n",
    "for i in range(10000):\n",
    "    states = results[-1]\n",
    "    for i in states:\n",
    "        rand = np.random.random_sample()\n",
    "        if i == 0:\n",
    "            i = 1 if rand <= (plin*nplin) else 0\n",
    "        if i == 1:\n",
    "            i = 0 if rand <= (plout*nplout) else 1\n",
    "    \n",
    "    results.append(states)\n",
    "    \n",
    "\n",
    "print(results)\n",
    "\n",
    "plt.plot(range(10001), [sum(i)/len(i) for i in results])\n",
    "plt.show()"
   ]
  }
 ],
 "metadata": {
  "kernelspec": {
   "display_name": ".env",
   "language": "python",
   "name": "python3"
  },
  "language_info": {
   "codemirror_mode": {
    "name": "ipython",
    "version": 3
   },
   "file_extension": ".py",
   "mimetype": "text/x-python",
   "name": "python",
   "nbconvert_exporter": "python",
   "pygments_lexer": "ipython3",
   "version": "3.8.10"
  }
 },
 "nbformat": 4,
 "nbformat_minor": 2
}
