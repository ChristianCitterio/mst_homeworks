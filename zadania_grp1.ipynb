{
 "cells": [
  {
   "cell_type": "code",
   "execution_count": null,
   "metadata": {},
   "outputs": [],
   "source": [
    "#  Setup dla zadanie A\n",
    "import matplotlib.pyplot as plt\n",
    "import numpy as np\n",
    "import math\n",
    "\n",
    "mu = 0\n",
    "sigma = 1\n",
    "\n",
    "data_ = mu + sigma * np.random.standard_normal(10000)\n",
    "\n",
    "def f(mean, std, val):\n",
    "    a = 1/(np.sqrt(2*np.pi)*std)\n",
    "    diff = np.abs(np.power(val-mean, 2))\n",
    "    b = np.exp(-(diff)/(2*std*std))\n",
    "    return a*b\n",
    "\n"
   ]
  },
  {
   "cell_type": "code",
   "execution_count": null,
   "metadata": {},
   "outputs": [],
   "source": [
    "#  Zadanie A generowanie histogram z danych\n",
    "plt.title(\"Histogram for random generated data\")\n",
    "plt.hist(data_, 30, density=True)\n",
    "plt.show()"
   ]
  },
  {
   "cell_type": "code",
   "execution_count": null,
   "metadata": {},
   "outputs": [],
   "source": [
    "#  Zadanie A porównanie\n",
    "p, x = np.histogram(data_, len(data_))\n",
    "x = x[:-1] + (x[1] - x[0])\n",
    "f_data = [f(0,1,i) for i in x]\n",
    "\n",
    "plt.title(\"Comparison with analitical formula data\")\n",
    "plt.plot(x, f_data)\n",
    "plt.hist(data_, 30, density=True)\n",
    "plt.show()"
   ]
  },
  {
   "cell_type": "code",
   "execution_count": null,
   "metadata": {},
   "outputs": [],
   "source": [
    "#  Zadania B setup\n",
    "\n",
    "a = 50\n",
    "Z = 100\n",
    "\n",
    "def p_a(a, p, z):\n",
    "    q = 1 - p\n",
    "    up = ((q/p)**a) - ((q/p)**z)\n",
    "    down = 1 - ((q/p)**z)\n",
    "    return up/down\n",
    "\n",
    "def game(a, p, Z):\n",
    "    b = Z - a\n",
    "    \n",
    "    n_game = 0\n",
    "    while b != 0 and a != 0:\n",
    "        res = np.random.random_sample()\n",
    "        if res <= p:\n",
    "            a += 1\n",
    "            b -= 1\n",
    "        if res > p:\n",
    "            b += 1\n",
    "            a -= 1\n",
    "\n",
    "        n_game += 1\n",
    "    \n",
    "    return [1, n_game] if b == 0 else [2, n_game]"
   ]
  },
  {
   "cell_type": "code",
   "execution_count": null,
   "metadata": {},
   "outputs": [],
   "source": [
    "#  Zadanie B simulacje\n",
    "\n",
    "p_range = [float(f\"{i/100}\"[:4]) for i in range(1,100, 2) if i != 50]\n",
    "results_b = dict()\n",
    "\n",
    "for i in p_range:\n",
    "    for j in range(1000):\n",
    "        res = game(a, i, Z)\n",
    "        key = f\"{i}\"\n",
    "        if results_b.get(key, None):\n",
    "            results_b[key].append(res)\n",
    "        else:\n",
    "            results_b[key] = [res, ]\n",
    "    \n",
    "    \n",
    "        "
   ]
  },
  {
   "cell_type": "code",
   "execution_count": null,
   "metadata": {},
   "outputs": [],
   "source": [
    "#  Zadanie B plots\n",
    "\n",
    "prd_a = []\n",
    "results = []\n",
    "p_range = [ \n",
    "        float(k) \n",
    "        for k in results_b.keys() \n",
    "        # if float(k) >= 0.30 or float(k) <= 0.70\n",
    "    ]\n",
    "\n",
    "for p in p_range:\n",
    "    \n",
    "    results_p_sims = results_b.get(f\"{p}\", [])\n",
    "    prd_a.append(p_a(a, p, Z))\n",
    "    \n",
    "    b_wins = 0\n",
    "    for x in results_b.get(f\"{p}\", []):\n",
    "        if x[0] == 2:\n",
    "            b_wins += 1\n",
    "            \n",
    "    results.append(b_wins/len(results_p_sims))\n",
    "            \n",
    "plt.title('Plot for mutable P(a) != 1/2 and a = 50')\n",
    "plt.plot(p_range, prd_a) # Analitic\n",
    "plt.scatter(p_range, results) # from sims\n",
    "plt.show()"
   ]
  },
  {
   "cell_type": "code",
   "execution_count": null,
   "metadata": {},
   "outputs": [],
   "source": [
    "#  Zadanie C setup\n",
    "\n",
    "p = q = 0.5\n",
    "Z = 100\n",
    "def p_r(a, Z):\n",
    "    return 1 - (a/Z)\n"
   ]
  },
  {
   "cell_type": "code",
   "execution_count": null,
   "metadata": {},
   "outputs": [],
   "source": [
    "#  Zadanie C symulacje\n",
    "\n",
    "a_range = range(1, 100, 5)\n",
    "results_c = dict()\n",
    "\n",
    "for i in a_range:\n",
    "    for j in range(1000):\n",
    "        res = game(i, p, Z)\n",
    "        key = i\n",
    "        if results_c.get(key, None):\n",
    "            results_c[key].append(res)\n",
    "        else:\n",
    "            results_c[key] = [res, ]"
   ]
  },
  {
   "cell_type": "code",
   "execution_count": null,
   "metadata": {},
   "outputs": [],
   "source": [
    "#  Zadanie C plots\n",
    "\n",
    "prd_a = []\n",
    "results = []\n",
    "\n",
    "for a in a_range:\n",
    "    \n",
    "    results_sims = results_c.get(a, [])\n",
    "    prd_a.append(p_r(a, Z))\n",
    "    \n",
    "    b_wins = 0\n",
    "    for x in results_sims:\n",
    "        if x[0] == 2:\n",
    "            b_wins += 1\n",
    "            \n",
    "    results.append((b_wins/len(results_sims)))\n",
    "            \n",
    "plt.title(\"Plot for P(a)=1/2 and mutable a\")\n",
    "plt.plot(a_range, prd_a) # Analitic\n",
    "plt.scatter(a_range, results) # From experiment\n",
    "plt.show()"
   ]
  },
  {
   "cell_type": "code",
   "execution_count": null,
   "metadata": {},
   "outputs": [],
   "source": [
    "#  Zadanie D setup\n",
    "\n",
    "a = b = 50\n",
    "range_p = [0.20, 0.50, 0.80]\n",
    "Z = a+b\n"
   ]
  },
  {
   "cell_type": "code",
   "execution_count": null,
   "metadata": {},
   "outputs": [],
   "source": [
    "#  Zadanie D symulacje\n",
    "\n",
    "results_d = dict()\n",
    "\n",
    "for i in range_p:\n",
    "    for j in range(10000):\n",
    "        res = game(a, i, Z)\n",
    "        key = str(i)\n",
    "        if results_d.get(key, None):\n",
    "            results_d[key].append(res)\n",
    "        else:\n",
    "            results_d[key] = [res, ]"
   ]
  },
  {
   "cell_type": "code",
   "execution_count": null,
   "metadata": {},
   "outputs": [],
   "source": [
    "#  Zadanie D plots\n",
    "\n",
    "for i in range_p:\n",
    "    results_l = [x[1] for x in results_d.get(str(i), [])]\n",
    "    avg = np.average(results_l)\n",
    "    plt.title(f\"Histogram with P(A) = {i}, AVG game length = {avg}\")\n",
    "    plt.hist(results_l, 45, density=True)\n",
    "    plt.show()"
   ]
  },
  {
   "cell_type": "code",
   "execution_count": null,
   "metadata": {},
   "outputs": [],
   "source": [
    "#  Zadanie G setup\n",
    "\n",
    "a = 50\n",
    "p = 0.50\n",
    "Z = 100\n"
   ]
  },
  {
   "cell_type": "code",
   "execution_count": null,
   "metadata": {},
   "outputs": [],
   "source": [
    "#  Zadanie G simulation\n",
    "\n",
    "results_g = []\n",
    "\n",
    "for i in range(50):\n",
    "    \n",
    "    results_g.append(game(a,p,Z))"
   ]
  },
  {
   "cell_type": "code",
   "execution_count": null,
   "metadata": {},
   "outputs": [],
   "source": [
    "#  Zadanie G plots A and B for P(a) = P(b) = 0.5\n",
    "\n",
    "a_games = []\n",
    "b_games = []\n",
    "a_wins = []\n",
    "b_wins = []\n",
    "n_games = 0\n",
    "a_ = 0\n",
    "b_ = 0\n",
    "\n",
    "for i in results_g:\n",
    "    n_games += 1\n",
    "    \n",
    "    if i[0] == 1:\n",
    "        a_ += 1\n",
    "        a_wins.append(a_)\n",
    "        a_games.append(n_games)\n",
    "    if i[0] == 2:\n",
    "        b_ += 1\n",
    "        b_wins.append(b_)\n",
    "        b_games.append(n_games)\n",
    "    \n",
    "plt.title(\"Plot A gamer total_games vs wins\")\n",
    "plt.step(a_games, a_wins)\n",
    "plt.show()\n",
    "\n",
    "plt.title(\"Plot B gamer total_games vs wins\")\n",
    "plt.step(b_games, b_wins)\n",
    "plt.show()\n",
    "    "
   ]
  }
 ],
 "metadata": {
  "kernelspec": {
   "display_name": "Python 3",
   "language": "python",
   "name": "python3"
  },
  "language_info": {
   "codemirror_mode": {
    "name": "ipython",
    "version": 3
   },
   "file_extension": ".py",
   "mimetype": "text/x-python",
   "name": "python",
   "nbconvert_exporter": "python",
   "pygments_lexer": "ipython3",
   "version": "3.8.10"
  }
 },
 "nbformat": 4,
 "nbformat_minor": 2
}
